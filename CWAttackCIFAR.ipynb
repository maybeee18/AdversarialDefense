{
 "cells": [
  {
   "cell_type": "code",
   "execution_count": 1,
   "metadata": {},
   "outputs": [
    {
     "name": "stderr",
     "output_type": "stream",
     "text": [
      "/home/iis-cvl/anaconda3/envs/advAttack/lib/python3.7/site-packages/tensorflow/python/framework/dtypes.py:516: FutureWarning: Passing (type, 1) or '1type' as a synonym of type is deprecated; in a future version of numpy, it will be understood as (type, (1,)) / '(1,)type'.\n",
      "  _np_qint8 = np.dtype([(\"qint8\", np.int8, 1)])\n",
      "/home/iis-cvl/anaconda3/envs/advAttack/lib/python3.7/site-packages/tensorflow/python/framework/dtypes.py:517: FutureWarning: Passing (type, 1) or '1type' as a synonym of type is deprecated; in a future version of numpy, it will be understood as (type, (1,)) / '(1,)type'.\n",
      "  _np_quint8 = np.dtype([(\"quint8\", np.uint8, 1)])\n",
      "/home/iis-cvl/anaconda3/envs/advAttack/lib/python3.7/site-packages/tensorflow/python/framework/dtypes.py:518: FutureWarning: Passing (type, 1) or '1type' as a synonym of type is deprecated; in a future version of numpy, it will be understood as (type, (1,)) / '(1,)type'.\n",
      "  _np_qint16 = np.dtype([(\"qint16\", np.int16, 1)])\n",
      "/home/iis-cvl/anaconda3/envs/advAttack/lib/python3.7/site-packages/tensorflow/python/framework/dtypes.py:519: FutureWarning: Passing (type, 1) or '1type' as a synonym of type is deprecated; in a future version of numpy, it will be understood as (type, (1,)) / '(1,)type'.\n",
      "  _np_quint16 = np.dtype([(\"quint16\", np.uint16, 1)])\n",
      "/home/iis-cvl/anaconda3/envs/advAttack/lib/python3.7/site-packages/tensorflow/python/framework/dtypes.py:520: FutureWarning: Passing (type, 1) or '1type' as a synonym of type is deprecated; in a future version of numpy, it will be understood as (type, (1,)) / '(1,)type'.\n",
      "  _np_qint32 = np.dtype([(\"qint32\", np.int32, 1)])\n",
      "/home/iis-cvl/anaconda3/envs/advAttack/lib/python3.7/site-packages/tensorflow/python/framework/dtypes.py:525: FutureWarning: Passing (type, 1) or '1type' as a synonym of type is deprecated; in a future version of numpy, it will be understood as (type, (1,)) / '(1,)type'.\n",
      "  np_resource = np.dtype([(\"resource\", np.ubyte, 1)])\n"
     ]
    },
    {
     "name": "stdout",
     "output_type": "stream",
     "text": [
      "WARNING:tensorflow:From /home/iis-cvl/anaconda3/envs/advAttack/lib/python3.7/site-packages/cleverhans/utils_tf.py:345: The name tf.GraphKeys is deprecated. Please use tf.compat.v1.GraphKeys instead.\n",
      "\n"
     ]
    },
    {
     "name": "stderr",
     "output_type": "stream",
     "text": [
      "/home/iis-cvl/anaconda3/envs/advAttack/lib/python3.7/site-packages/tensorboard/compat/tensorflow_stub/dtypes.py:541: FutureWarning: Passing (type, 1) or '1type' as a synonym of type is deprecated; in a future version of numpy, it will be understood as (type, (1,)) / '(1,)type'.\n",
      "  _np_qint8 = np.dtype([(\"qint8\", np.int8, 1)])\n",
      "/home/iis-cvl/anaconda3/envs/advAttack/lib/python3.7/site-packages/tensorboard/compat/tensorflow_stub/dtypes.py:542: FutureWarning: Passing (type, 1) or '1type' as a synonym of type is deprecated; in a future version of numpy, it will be understood as (type, (1,)) / '(1,)type'.\n",
      "  _np_quint8 = np.dtype([(\"quint8\", np.uint8, 1)])\n",
      "/home/iis-cvl/anaconda3/envs/advAttack/lib/python3.7/site-packages/tensorboard/compat/tensorflow_stub/dtypes.py:543: FutureWarning: Passing (type, 1) or '1type' as a synonym of type is deprecated; in a future version of numpy, it will be understood as (type, (1,)) / '(1,)type'.\n",
      "  _np_qint16 = np.dtype([(\"qint16\", np.int16, 1)])\n",
      "/home/iis-cvl/anaconda3/envs/advAttack/lib/python3.7/site-packages/tensorboard/compat/tensorflow_stub/dtypes.py:544: FutureWarning: Passing (type, 1) or '1type' as a synonym of type is deprecated; in a future version of numpy, it will be understood as (type, (1,)) / '(1,)type'.\n",
      "  _np_quint16 = np.dtype([(\"quint16\", np.uint16, 1)])\n",
      "/home/iis-cvl/anaconda3/envs/advAttack/lib/python3.7/site-packages/tensorboard/compat/tensorflow_stub/dtypes.py:545: FutureWarning: Passing (type, 1) or '1type' as a synonym of type is deprecated; in a future version of numpy, it will be understood as (type, (1,)) / '(1,)type'.\n",
      "  _np_qint32 = np.dtype([(\"qint32\", np.int32, 1)])\n",
      "/home/iis-cvl/anaconda3/envs/advAttack/lib/python3.7/site-packages/tensorboard/compat/tensorflow_stub/dtypes.py:550: FutureWarning: Passing (type, 1) or '1type' as a synonym of type is deprecated; in a future version of numpy, it will be understood as (type, (1,)) / '(1,)type'.\n",
      "  np_resource = np.dtype([(\"resource\", np.ubyte, 1)])\n"
     ]
    }
   ],
   "source": [
    "import numpy as np\n",
    "\n",
    "import torch\n",
    "import torch.nn.functional as F\n",
    "from torch import nn\n",
    "from torch import optim\n",
    "from torch.autograd import Variable\n",
    "from torchvision import datasets, transforms\n",
    "from torchsummary import summary\n",
    "\n",
    "from trainers import trainTorch, advTrain\n",
    "from evalAttacks import evalClean\n",
    "from evalAttacks import CWAttackRandomEnsem, CWAttackEnsem"
   ]
  },
  {
   "cell_type": "code",
   "execution_count": 2,
   "metadata": {},
   "outputs": [
    {
     "name": "stdout",
     "output_type": "stream",
     "text": [
      "Files already downloaded and verified\n"
     ]
    }
   ],
   "source": [
    "nb_epochs = 2\n",
    "batch_size = 128\n",
    "learning_rate = 0.001\n",
    "train_loader = torch.utils.data.DataLoader(\n",
    "    datasets.CIFAR10('data', train=True, download=True,\n",
    "                    transform=transforms.ToTensor()),\n",
    "    batch_size=batch_size, shuffle=True)\n",
    "test_loader = torch.utils.data.DataLoader(\n",
    "    datasets.CIFAR10('data', train=False, transform=transforms.ToTensor()),\n",
    "    batch_size=batch_size)"
   ]
  },
  {
   "cell_type": "code",
   "execution_count": 3,
   "metadata": {},
   "outputs": [],
   "source": [
    "# Loading models from modelZoo\n",
    "from modelZooCifar import CIFARNet, ensembleModel, ensembleModel4\n",
    "CiNet1 = CIFARNet()\n",
    "CiNet2 = CIFARNet()\n",
    "CiNet3 = CIFARNet()\n",
    "CiNet4 = CIFARNet()\n",
    "\n",
    "ckptPath = 'cifarCkpts/'\n",
    "\n",
    "ensemNet = ensembleModel(CiNet1, CiNet2, CiNet3)\n",
    "ensemNet4 = ensembleModel4(CiNet1, CiNet2, CiNet3, CiNet4)\n",
    "\n",
    "CiNet1.load_state_dict(torch.load(ckptPath + 'CIFARNet1.pth'))\n",
    "CiNet2.load_state_dict(torch.load(ckptPath + 'CIFARNet2.pth'))\n",
    "CiNet3.load_state_dict(torch.load(ckptPath + 'CIFARNet3.pth'))\n",
    "CiNet4.load_state_dict(torch.load(ckptPath + 'CIFARNet4.pth'))\n",
    "ensemNet.load_state_dict(torch.load(ckptPath + 'ensemNet.pth'))\n",
    "ensemNet4.load_state_dict(torch.load(ckptPath + 'ensemNet4.pth'))\n",
    "\n",
    "if torch.cuda.is_available():\n",
    "    CiNet1 = CiNet1.cuda()\n",
    "    CiNet2 = CiNet2.cuda()\n",
    "    CiNet3 = CiNet3.cuda()\n",
    "    CiNet4 = CiNet4.cuda()\n",
    "    ensemNet = ensemNet.cuda()\n",
    "    ensemNet4 = ensemNet4.cuda()\n"
   ]
  },
  {
   "cell_type": "code",
   "execution_count": 4,
   "metadata": {
    "scrolled": true
   },
   "outputs": [
    {
     "name": "stdout",
     "output_type": "stream",
     "text": [
      "Evaluating single model results on clean data\n",
      "Clean accuracy: 75.48%\n",
      "Evaluating single model results on clean data\n",
      "Clean accuracy: 73.84%\n",
      "Evaluating single model results on clean data\n",
      "Clean accuracy: 74.93%\n",
      "Evaluating single model results on clean data\n",
      "Clean accuracy: 78.05%\n",
      "Evaluating single model results on clean data\n",
      "Clean accuracy: 77.86%\n"
     ]
    }
   ],
   "source": [
    "# Evaluate all models on clean original test data\n",
    "evalClean(model1=CiNet1, test_loader=test_loader, singleModel=1)\n",
    "evalClean(model1=CiNet2, test_loader=test_loader, singleModel=1)\n",
    "evalClean(model1=CiNet3, test_loader=test_loader, singleModel=1)\n",
    "evalClean(model1=ensemNet, test_loader=test_loader, singleModel=1)\n",
    "evalClean(model1=ensemNet4, test_loader=test_loader, singleModel=1)"
   ]
  },
  {
   "cell_type": "code",
   "execution_count": 5,
   "metadata": {
    "scrolled": true
   },
   "outputs": [
    {
     "name": "stdout",
     "output_type": "stream",
     "text": [
      "On Batch 1\n",
      "Running on the original Ensembled\n",
      "On Batch 2\n",
      "Running on the original Ensembled\n",
      "Adv accuracy for original ensem model: 0.000％\n",
      "Adv accuracy for test model 0: 0.000%\n",
      "Adv accuracy for test model 1: 69.531%\n",
      "Adv accuracy for test model 2: 73.047%\n",
      "Adv accuracy for Ensemble Voting: 62.500％\n",
      "On Batch 1\n",
      "Running on the original Ensembled\n",
      "On Batch 2\n",
      "Running on the original Ensembled\n",
      "Adv accuracy for original ensem model: 0.000％\n",
      "Adv accuracy for test model 0: 71.094%\n",
      "Adv accuracy for test model 1: 0.000%\n",
      "Adv accuracy for test model 2: 72.656%\n",
      "Adv accuracy for Ensemble Voting: 62.891％\n",
      "On Batch 1\n",
      "Running on the original Ensembled\n",
      "On Batch 2\n",
      "Running on the original Ensembled\n",
      "Adv accuracy for original ensem model: 0.000％\n",
      "Adv accuracy for test model 0: 69.922%\n",
      "Adv accuracy for test model 1: 68.359%\n",
      "Adv accuracy for test model 2: 0.000%\n",
      "Adv accuracy for Ensemble Voting: 60.938％\n"
     ]
    }
   ],
   "source": [
    "# Evaluate the attack against each other and against \n",
    "modelGroup = [CiNet1, CiNet2, CiNet3]\n",
    "CWAttackEnsem(CiNet1, modelGroup, test_loader)\n",
    "CWAttackEnsem(CiNet2, modelGroup, test_loader)\n",
    "CWAttackEnsem(CiNet3, modelGroup, test_loader)"
   ]
  },
  {
   "cell_type": "code",
   "execution_count": 7,
   "metadata": {
    "scrolled": true
   },
   "outputs": [
    {
     "name": "stdout",
     "output_type": "stream",
     "text": [
      "On Batch 1\n",
      "Running on the original Ensembled\n",
      "On Batch 2\n",
      "Running on the original Ensembled\n",
      "Adv accuracy for original ensem model: 0.000％\n",
      "Adv accuracy for test model 0: 47.266%\n",
      "Adv accuracy for test model 1: 50.000%\n",
      "Adv accuracy for test model 2: 55.469%\n",
      "Adv accuracy for Ensemble Voting: 56.641％\n"
     ]
    }
   ],
   "source": [
    "CWAttackEnsem(ensemNet, modelGroup, test_loader)"
   ]
  },
  {
   "cell_type": "code",
   "execution_count": 8,
   "metadata": {
    "scrolled": true
   },
   "outputs": [
    {
     "name": "stdout",
     "output_type": "stream",
     "text": [
      "On Batch 1\n",
      "Running on the original Ensembled\n",
      "Running on the random Ensembled\n",
      "On Batch 2\n",
      "Running on the original Ensembled\n",
      "Running on the random Ensembled\n",
      "Adv accuracy for original ensem model: 0.000％\n",
      "Adv accuracy for tested model 1: 59.766％\n"
     ]
    }
   ],
   "source": [
    "CWAttackRandomEnsem(ensemNet4, [CiNet1, CiNet2, CiNet3, CiNet4], test_loader)"
   ]
  },
  {
   "cell_type": "code",
   "execution_count": 23,
   "metadata": {},
   "outputs": [
    {
     "name": "stdout",
     "output_type": "stream",
     "text": [
      "loss in epoch 0: 309.554169\n",
      "loss in epoch 1: 1.130933\n",
      "loss in epoch 2: 0.604526\n",
      "loss in epoch 3: 0.401626\n",
      "loss in epoch 4: 0.303445\n",
      "accuracy in testing set: 0.775300\n",
      "\n",
      "loss in epoch 5: 0.243454\n",
      "loss in epoch 6: 0.204142\n",
      "loss in epoch 7: 0.175629\n",
      "loss in epoch 8: 0.154281\n",
      "loss in epoch 9: 0.137134\n",
      "accuracy in testing set: 0.776400\n",
      "\n",
      "loss in epoch 10: 0.123705\n",
      "loss in epoch 11: 0.112617\n",
      "loss in epoch 12: 0.103254\n",
      "loss in epoch 13: 0.095507\n",
      "loss in epoch 14: 0.088910\n",
      "accuracy in testing set: 0.777500\n",
      "\n",
      "loss in epoch 15: 0.083000\n",
      "loss in epoch 16: 0.077901\n",
      "loss in epoch 17: 0.073458\n",
      "loss in epoch 18: 0.069418\n",
      "loss in epoch 19: 0.065809\n",
      "accuracy in testing set: 0.778600\n",
      "\n"
     ]
    }
   ],
   "source": [
    "# from modelZooCifar import ensembleModel4, freeze_models, unfreeze_models\n",
    "# pth = 'cifarCkpts/ensemNet4.pth'\n",
    "# target_model = ensembleModel4(CiNet1, CiNet2, CiNet3, CiNet4)\n",
    "# target_model = target_model.cuda()\n",
    "# freeze_models(target_model)\n",
    "# # opt_model = torch.optim.Adam(target_model.parameters(), lr=0.001)\n",
    "# opt_model = torch.optim.SGD(filter(lambda p: p.requires_grad==True, target_model.parameters()), lr=0.01)\n",
    "# unfreeze_models(target_model)\n",
    "\n",
    "# target_model.train()\n",
    "# epochs = 20\n",
    "# for epoch in range(epochs):\n",
    "#     loss_epoch = 0\n",
    "#     if epoch == 25:\n",
    "# #         opt_model = torch.optim.Adam(target_model.parameters(), lr=0.0001)\n",
    "#         opt_model = torch.optim.SGD(target_model.parameters(), lr=0.005, momentum=0.9)\n",
    "#     for i, data in enumerate(train_loader, 0):\n",
    "#         train_imgs, train_labels = data\n",
    "#         train_imgs, train_labels = train_imgs.cuda(), train_labels.cuda()\n",
    "#         logits_model = target_model(train_imgs)\n",
    "#         loss_model = F.cross_entropy(logits_model, train_labels)\n",
    "#         loss_epoch += loss_model\n",
    "#         opt_model.zero_grad()\n",
    "#         loss_model.backward()\n",
    "#         opt_model.step()\n",
    "    \n",
    "#     print('loss in epoch %d: %f' % (epoch, loss_epoch.item()))\n",
    "#     if (epoch+1) % 5 == 0:\n",
    "#         num_correct = 0\n",
    "#         total = 0\n",
    "#         for i, data in enumerate(test_loader, 0):\n",
    "#             test_img, test_label = data\n",
    "#             test_img, test_label = test_img.cuda(), test_label.cuda()\n",
    "#             pred_lab = torch.argmax(target_model(test_img), 1)\n",
    "#             num_correct += torch.sum(pred_lab==test_label,0)\n",
    "#             total += len(pred_lab)\n",
    "#         print('accuracy in testing set: %f\\n'%(num_correct.item()/total))\n",
    "\n",
    "\n",
    "\n",
    "# # save model\n",
    "# targeted_model_file_name = pth\n",
    "# torch.save(target_model.state_dict(), targeted_model_file_name)"
   ]
  },
  {
   "cell_type": "code",
   "execution_count": null,
   "metadata": {},
   "outputs": [],
   "source": []
  },
  {
   "cell_type": "code",
   "execution_count": null,
   "metadata": {},
   "outputs": [],
   "source": []
  },
  {
   "cell_type": "code",
   "execution_count": null,
   "metadata": {},
   "outputs": [],
   "source": []
  }
 ],
 "metadata": {
  "kernelspec": {
   "display_name": "Python 3",
   "language": "python",
   "name": "python3"
  },
  "language_info": {
   "codemirror_mode": {
    "name": "ipython",
    "version": 3
   },
   "file_extension": ".py",
   "mimetype": "text/x-python",
   "name": "python",
   "nbconvert_exporter": "python",
   "pygments_lexer": "ipython3",
   "version": "3.6.12"
  }
 },
 "nbformat": 4,
 "nbformat_minor": 4
}
