{
 "cells": [
  {
   "cell_type": "code",
   "execution_count": 2,
   "metadata": {},
   "outputs": [],
   "source": [
    "import numpy as np\n",
    "import random\n",
    "import tqdm\n",
    "\n",
    "import torch\n",
    "import torch.nn.functional as F\n",
    "from torch import nn\n",
    "from torch import optim\n",
    "from torch.autograd import Variable\n",
    "from torchvision import datasets, transforms\n",
    "from torch.utils.data import Dataset, DataLoader\n",
    "from torchsummary import summary\n",
    "\n",
    "from trainers import trainTorch, advTrain\n",
    "from evalAttacks import evalClean, evalFGSMEnsem, evalAdvDiffModel, evalCombined\n",
    "from cleverhans.future.torch.attacks.fast_gradient_method import fast_gradient_method\n",
    "\n",
    "# #Different Attacks\n",
    "# from evalAttacks import CWAttackRandomEnsem, CWAttackEnsem"
   ]
  },
  {
   "cell_type": "code",
   "execution_count": 3,
   "metadata": {},
   "outputs": [
    {
     "name": "stdout",
     "output_type": "stream",
     "text": [
      "Files already downloaded and verified\n"
     ]
    }
   ],
   "source": [
    "nb_epochs = 30\n",
    "batch_size = 128\n",
    "learning_rate = 0.001\n",
    "CIFARtrain = datasets.CIFAR10('data', train=True, download=True, transform=transforms.ToTensor())\n",
    "CIFARtest = datasets.CIFAR10('data', train=False, transform=transforms.ToTensor())\n",
    "train_loader = torch.utils.data.DataLoader(CIFARtrain, batch_size=batch_size, shuffle=True)\n",
    "test_loader = torch.utils.data.DataLoader(CIFARtest,batch_size=batch_size)"
   ]
  },
  {
   "cell_type": "code",
   "execution_count": 4,
   "metadata": {},
   "outputs": [],
   "source": [
    "# Loading models from modelZoo\n",
    "from modelZooCifar import CIFARNet,VWNet\n",
    "CiNet1 = CIFARNet()\n",
    "CiNet2 = CIFARNet()\n",
    "CiNet3 = CIFARNet()\n",
    "\n",
    "ckptPath = 'cifarCkpts/'\n",
    "\n",
    "CiNet1.load_state_dict(torch.load(ckptPath + 'CIFARNet1.pth'))\n",
    "CiNet2.load_state_dict(torch.load(ckptPath + 'CIFARNet2.pth'))\n",
    "CiNet3.load_state_dict(torch.load(ckptPath + 'CIFARNet3.pth'))\n",
    "models = [CiNet1, CiNet2, CiNet3]\n",
    "# if torch.cuda.is_available():\n",
    "#     CiNet1 = CiNet1.cuda()\n",
    "#     CiNet2 = CiNet2.cuda()\n",
    "#     CiNet3 = CiNet3.cuda()"
   ]
  },
  {
   "cell_type": "code",
   "execution_count": 5,
   "metadata": {},
   "outputs": [],
   "source": [
    "class VotingSetFGSM(Dataset):\n",
    "    def __init__(self, isTrain):\n",
    "        if isTrain:\n",
    "            self.imgDataset = CIFARtrain\n",
    "        else:\n",
    "            self.imgDataset = CIFARtest\n",
    "        \n",
    "    def __len__(self):\n",
    "        return len(self.imgDataset)\n",
    "        \n",
    "    def __getitem__(self, idx):\n",
    "        img = self.imgDataset[idx][0]\n",
    "        selectedId = random.randint(0, len(models)-1)\n",
    "        fgsm_model = models[selectedId]\n",
    "        img = fast_gradient_method(fgsm_model, img.unsqueeze(0), eps=0.3, norm=np.inf, clip_min=0., clip_max=1.)\n",
    "        target = torch.Tensor([1/(len(models)-1) for i in range(len(models))])\n",
    "        target[selectedId] = 0.\n",
    "        return img.squeeze(0), target\n",
    "    "
   ]
  },
  {
   "cell_type": "code",
   "execution_count": null,
   "metadata": {
    "scrolled": true
   },
   "outputs": [
    {
     "data": {
      "application/vnd.jupyter.widget-view+json": {
       "model_id": "bddd44871ec947859d344eb2f5d594fe",
       "version_major": 2,
       "version_minor": 0
      },
      "text/plain": [
       "HBox(children=(HTML(value=''), FloatProgress(value=1.0, bar_style='info', layout=Layout(width='20px'), max=1.0…"
      ]
     },
     "metadata": {},
     "output_type": "display_data"
    },
    {
     "name": "stdout",
     "output_type": "stream",
     "text": [
      "At iteration 0:\n",
      "Prediction is tensor([0.3191, 0.3435, 0.3374], device='cuda:0', grad_fn=<SelectBackward>)\n",
      "target is tensor([0.5000, 0.5000, 0.0000], device='cuda:0')\n",
      "Current Loss is 0.1846613883972168\n",
      "At iteration 100:\n",
      "Prediction is tensor([0.6292, 0.3564, 0.0144], device='cuda:0', grad_fn=<SelectBackward>)\n",
      "target is tensor([0.5000, 0.5000, 0.0000], device='cuda:0')\n",
      "Current Loss is 0.07946871221065521\n",
      "At iteration 200:\n",
      "Prediction is tensor([0.4538, 0.4983, 0.0479], device='cuda:0', grad_fn=<SelectBackward>)\n",
      "target is tensor([0.5000, 0.5000, 0.0000], device='cuda:0')\n",
      "Current Loss is 0.0320785716176033\n",
      "At iteration 300:\n",
      "Prediction is tensor([0.4694, 0.4943, 0.0364], device='cuda:0', grad_fn=<SelectBackward>)\n",
      "target is tensor([0.5000, 0.5000, 0.0000], device='cuda:0')\n",
      "Current Loss is 0.01551750022917986\n",
      "\n"
     ]
    },
    {
     "data": {
      "application/vnd.jupyter.widget-view+json": {
       "model_id": "3a1814d861914d8d988cf40bb25ed416",
       "version_major": 2,
       "version_minor": 0
      },
      "text/plain": [
       "HBox(children=(HTML(value=''), FloatProgress(value=0.0, max=79.0), HTML(value='')))"
      ]
     },
     "metadata": {},
     "output_type": "display_data"
    },
    {
     "name": "stdout",
     "output_type": "stream",
     "text": [
      "\n",
      "Validation Loss at Epoch 0: 0.012064480222761631\n"
     ]
    },
    {
     "data": {
      "application/vnd.jupyter.widget-view+json": {
       "model_id": "44013c9a31924617a450f2694defec4d",
       "version_major": 2,
       "version_minor": 0
      },
      "text/plain": [
       "HBox(children=(HTML(value=''), FloatProgress(value=1.0, bar_style='info', layout=Layout(width='20px'), max=1.0…"
      ]
     },
     "metadata": {},
     "output_type": "display_data"
    },
    {
     "name": "stdout",
     "output_type": "stream",
     "text": [
      "At iteration 0:\n",
      "Prediction is tensor([5.0371e-01, 4.7038e-04, 4.9582e-01], device='cuda:0',\n",
      "       grad_fn=<SelectBackward>)\n",
      "target is tensor([0.5000, 0.0000, 0.5000], device='cuda:0')\n",
      "Current Loss is 0.008410144597291946\n",
      "At iteration 100:\n",
      "Prediction is tensor([5.2189e-01, 4.7779e-01, 3.2678e-04], device='cuda:0',\n",
      "       grad_fn=<SelectBackward>)\n",
      "target is tensor([0.5000, 0.5000, 0.0000], device='cuda:0')\n",
      "Current Loss is 0.005602647550404072\n",
      "At iteration 200:\n",
      "Prediction is tensor([0.0909, 0.4556, 0.4535], device='cuda:0', grad_fn=<SelectBackward>)\n",
      "target is tensor([0.0000, 0.5000, 0.5000], device='cuda:0')\n",
      "Current Loss is 0.012246187776327133\n",
      "At iteration 300:\n",
      "Prediction is tensor([0.4812, 0.5176, 0.0011], device='cuda:0', grad_fn=<SelectBackward>)\n",
      "target is tensor([0.5000, 0.5000, 0.0000], device='cuda:0')\n",
      "Current Loss is 0.004674318712204695\n",
      "\n"
     ]
    },
    {
     "data": {
      "application/vnd.jupyter.widget-view+json": {
       "model_id": "9f3e7d73f59a4564ab4124a61ea79205",
       "version_major": 2,
       "version_minor": 0
      },
      "text/plain": [
       "HBox(children=(HTML(value=''), FloatProgress(value=0.0, max=79.0), HTML(value='')))"
      ]
     },
     "metadata": {},
     "output_type": "display_data"
    },
    {
     "name": "stdout",
     "output_type": "stream",
     "text": [
      "\n",
      "Validation Loss at Epoch 1: 0.008003844879567623\n"
     ]
    },
    {
     "data": {
      "application/vnd.jupyter.widget-view+json": {
       "model_id": "26006b79c93e4ac59a487e4bee513771",
       "version_major": 2,
       "version_minor": 0
      },
      "text/plain": [
       "HBox(children=(HTML(value=''), FloatProgress(value=1.0, bar_style='info', layout=Layout(width='20px'), max=1.0…"
      ]
     },
     "metadata": {},
     "output_type": "display_data"
    },
    {
     "name": "stdout",
     "output_type": "stream",
     "text": [
      "At iteration 0:\n",
      "Prediction is tensor([0.0472, 0.4998, 0.4530], device='cuda:0', grad_fn=<SelectBackward>)\n",
      "target is tensor([0.0000, 0.5000, 0.5000], device='cuda:0')\n",
      "Current Loss is 0.008038895204663277\n",
      "At iteration 100:\n",
      "Prediction is tensor([4.6405e-01, 7.2171e-06, 5.3594e-01], device='cuda:0',\n",
      "       grad_fn=<SelectBackward>)\n",
      "target is tensor([0.5000, 0.0000, 0.5000], device='cuda:0')\n",
      "Current Loss is 0.005903128534555435\n",
      "At iteration 200:\n",
      "Prediction is tensor([0.4560, 0.5388, 0.0052], device='cuda:0', grad_fn=<SelectBackward>)\n",
      "target is tensor([0.5000, 0.5000, 0.0000], device='cuda:0')\n",
      "Current Loss is 0.0035653775557875633\n",
      "At iteration 300:\n",
      "Prediction is tensor([0.0288, 0.4807, 0.4905], device='cuda:0', grad_fn=<SelectBackward>)\n",
      "target is tensor([0.0000, 0.5000, 0.5000], device='cuda:0')\n",
      "Current Loss is 0.010614321567118168\n",
      "\n"
     ]
    },
    {
     "data": {
      "application/vnd.jupyter.widget-view+json": {
       "model_id": "cbf27f5f2b64439b851df9405469fb59",
       "version_major": 2,
       "version_minor": 0
      },
      "text/plain": [
       "HBox(children=(HTML(value=''), FloatProgress(value=0.0, max=79.0), HTML(value='')))"
      ]
     },
     "metadata": {},
     "output_type": "display_data"
    },
    {
     "name": "stdout",
     "output_type": "stream",
     "text": [
      "\n",
      "Validation Loss at Epoch 2: 0.004324086010456085\n"
     ]
    },
    {
     "data": {
      "application/vnd.jupyter.widget-view+json": {
       "model_id": "6c8ecfecf65448fa965f8a627a7ded91",
       "version_major": 2,
       "version_minor": 0
      },
      "text/plain": [
       "HBox(children=(HTML(value=''), FloatProgress(value=1.0, bar_style='info', layout=Layout(width='20px'), max=1.0…"
      ]
     },
     "metadata": {},
     "output_type": "display_data"
    },
    {
     "name": "stdout",
     "output_type": "stream",
     "text": [
      "At iteration 0:\n",
      "Prediction is tensor([0.4903, 0.0258, 0.4839], device='cuda:0', grad_fn=<SelectBackward>)\n",
      "target is tensor([0.5000, 0.0000, 0.5000], device='cuda:0')\n",
      "Current Loss is 0.0021651778370141983\n",
      "At iteration 100:\n",
      "Prediction is tensor([4.8468e-01, 5.1525e-01, 6.5143e-05], device='cuda:0',\n",
      "       grad_fn=<SelectBackward>)\n",
      "target is tensor([0.5000, 0.5000, 0.0000], device='cuda:0')\n",
      "Current Loss is 0.0007815398275852203\n",
      "At iteration 200:\n",
      "Prediction is tensor([0.0083, 0.4999, 0.4918], device='cuda:0', grad_fn=<SelectBackward>)\n",
      "target is tensor([0.0000, 0.5000, 0.5000], device='cuda:0')\n",
      "Current Loss is 0.0036894353106617928\n",
      "At iteration 300:\n",
      "Prediction is tensor([0.0086, 0.4965, 0.4949], device='cuda:0', grad_fn=<SelectBackward>)\n",
      "target is tensor([0.0000, 0.5000, 0.5000], device='cuda:0')\n",
      "Current Loss is 0.001468130387365818\n"
     ]
    }
   ],
   "source": [
    "# Voting Training\n",
    "votingNet = VWNet(outputSize = 3)\n",
    "votingNet = votingNet.cuda()\n",
    "\n",
    "FGSMVoting = VotingSetFGSM(isTrain=True)\n",
    "voting_trainloader = torch.utils.data.DataLoader(FGSMVoting, batch_size=batch_size, shuffle=True)\n",
    "FGSMVotingTest = VotingSetFGSM(isTrain=False)\n",
    "voting_testloader = torch.utils.data.DataLoader(FGSMVotingTest, batch_size=batch_size, shuffle=True)\n",
    "\n",
    "optimizer = optim.Adam(votingNet.parameters(), lr=learning_rate)\n",
    "\n",
    "\n",
    "\n",
    "bestLoss = -1\n",
    "for epoch in range(nb_epochs):\n",
    "    votingNet.train()\n",
    "    for idx, (inpt, target) in tqdm.notebook.tqdm(enumerate(voting_trainloader)):\n",
    "        inpt = inpt.cuda()\n",
    "        target = target.cuda()\n",
    "        pred = votingNet(inpt)\n",
    "        cos_loss = torch.mean(1-torch.nn.CosineSimilarity()(pred, target))\n",
    "        loss = cos_loss\n",
    "        optimizer.zero_grad()\n",
    "        loss.backward()\n",
    "        optimizer.step()\n",
    "        if idx % 100 == 0:\n",
    "            print(\"At iteration {}:\".format(idx))\n",
    "            print(\"Prediction is {}\".format(pred[0]))\n",
    "            print(\"target is {}\".format(target[0]))\n",
    "            print(\"Current Loss is {}\".format(loss))\n",
    "    \n",
    "    # Evaluation\n",
    "    votingNet.eval()\n",
    "    torch.save(votingNet.state_dict(), 'vNetCkpt/epoch'+ str(epoch)+'.pth')\n",
    "    val_loss = 0\n",
    "    for inpt, target in tqdm.notebook.tqdm(voting_testloader):\n",
    "        with torch.no_grad():\n",
    "            inpt = inpt.cuda()\n",
    "            target = target.cuda()\n",
    "            pred = votingNet(inpt)\n",
    "            val_loss += torch.mean(1-torch.nn.CosineSimilarity()(pred, target))\n",
    "    print(\"Validation Loss at Epoch {}: {}\".format(epoch, val_loss/len(voting_testloader)))\n",
    "    if bestLoss == -1 or val_loss < bestLoss:\n",
    "        torch.save(votingNet.state_dict(), 'vNetCkpt/bestCkpt.pth')\n",
    "        bestLoss = val_loss\n",
    "        "
   ]
  },
  {
   "cell_type": "code",
   "execution_count": null,
   "metadata": {},
   "outputs": [],
   "source": []
  }
 ],
 "metadata": {
  "kernelspec": {
   "display_name": "Python 3",
   "language": "python",
   "name": "python3"
  },
  "language_info": {
   "codemirror_mode": {
    "name": "ipython",
    "version": 3
   },
   "file_extension": ".py",
   "mimetype": "text/x-python",
   "name": "python",
   "nbconvert_exporter": "python",
   "pygments_lexer": "ipython3",
   "version": "3.7.9"
  }
 },
 "nbformat": 4,
 "nbformat_minor": 4
}
